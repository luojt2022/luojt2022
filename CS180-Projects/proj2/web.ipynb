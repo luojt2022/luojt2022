{
 "cells": [
  {
   "cell_type": "markdown",
   "metadata": {},
   "source": [
    "<div style=\"text-align: center;\">\n",
    "    <h1 style=\"font-style: italic;\">Fun with Filters and Frequencies!</h1>\n",
    "</div>"
   ]
  },
  {
   "cell_type": "markdown",
   "metadata": {},
   "source": [
    "## ***Part 1: Fun with Filters***"
   ]
  },
  {
   "cell_type": "markdown",
   "metadata": {},
   "source": [
    "### ***Part 1.1: Finite Difference Operator***"
   ]
  },
  {
   "cell_type": "markdown",
   "metadata": {},
   "source": [
    "&emsp;&emsp;In this part, the humble finite difference is used as our filter in the $x$ and $y$ directions.\n",
    "$$\n",
    "    D_{x} = \n",
    "    \\begin{bmatrix}\n",
    "        1 & -1 \\\\\n",
    "    \\end{bmatrix}\n",
    "    ~~~~~~~~\n",
    "    D_{y} = \n",
    "    \\begin{bmatrix}\n",
    "        1 \\\\\n",
    "        -1 \\\\\n",
    "    \\end{bmatrix}\n",
    "$$\n",
    "&emsp;&emsp;The partial derivative in x and y of the cameraman image is shown below:\n",
    "<div style=\"display: flex; justify-content: space-around; align-items: center;\">\n",
    "    <div style=\"text-align: center;\">\n",
    "        <p style=\"font-weight: bold;\">Original Image</p>\n",
    "        <img src=\"./media/cameraman.png\" alt=\"Image 1\" style=\"width: 250px;\">\n",
    "    </div>\n",
    "    <div style=\"text-align: center;\">\n",
    "        <p style=\"font-weight: bold;\">Convolved with Dx</p>\n",
    "        <img src=\"./media/partial_derivative_x.jpg\" alt=\"Image 2\" style=\"width: 250px;\">\n",
    "    </div>\n",
    "    <div style=\"text-align: center;\">\n",
    "        <p style=\"font-weight: bold;\">Convolved with Dy</p>\n",
    "        <img src=\"./media/partial_derivative_y.jpg\" alt=\"Image 3\" style=\"width: 250px;\">\n",
    "    </div>\n",
    "</div>\n",
    "\n",
    "&emsp;&emsp;To compute the gradient magnitude image, consider the formula mentioned in the course:\n",
    "$$\n",
    "\\|\\nabla f\\| = \\sqrt{\\left(\\frac{\\partial f}{\\partial x}\\right)^{2} + \\left(\\frac{\\partial f}{\\partial y}\\right)^{2}}.\n",
    "$$\n",
    "&emsp;&emsp;To binarize the gradient magnitude image, I choose the threshold $\\epsilon = 0.26$. All pixels with values greater than the threshold are set to 1, while others are set to 0.\n",
    "\n",
    "&emsp;&emsp;The results are shown below:\n",
    "<div style=\"display: flex; justify-content: space-around; align-items: center;\">\n",
    "    <div style=\"text-align: center;\">\n",
    "        <p style=\"font-weight: bold;\">Gradient Magnitude Image</p>\n",
    "        <img src=\"./media/gradient_magnitude.jpg\" alt=\"Image 1\" style=\"width: 350px;\">\n",
    "    </div>\n",
    "    <div style=\"text-align: center;\">\n",
    "        <p style=\"font-weight: bold;\">Edge Image</p>\n",
    "        <img src=\"./media/edge_image.jpg\" alt=\"Image 2\" style=\"width: 350px;\">\n",
    "    </div>\n",
    "</div>"
   ]
  },
  {
   "cell_type": "markdown",
   "metadata": {},
   "source": [
    "### ***Part 1.2: Derivative of Gaussian (DoG) Filter***"
   ]
  },
  {
   "cell_type": "markdown",
   "metadata": {},
   "source": [
    "&emsp;&emsp;Here are the related parameters in this part:\n",
    "$$\n",
    "    \\textbf{Gaussian filter: } \\sigma = 1 \\text{ with } 9 \\times 9 \\text{ kernel}\n",
    "$$\n",
    "$$\n",
    "    \\textbf{Threshold } \\text{for edge binarization: 0.065}\n",
    "$$"
   ]
  },
  {
   "cell_type": "markdown",
   "metadata": {},
   "source": [
    "#### ***Method 1: Create a blurred version of the original image by convolving with a gaussian before applying $D_{x}$, $D_{y}$ operators.***"
   ]
  },
  {
   "cell_type": "markdown",
   "metadata": {},
   "source": [
    "<div style=\"display: flex; justify-content: space-around; align-items: center;\">\n",
    "    <div style=\"text-align: center;\">\n",
    "        <p style=\"font-weight: bold;\">Gaussian Blurred Image</p>\n",
    "        <img src=\"./media/blurred.jpg\" alt=\"Image 1\" style=\"width: 160px;\">\n",
    "    </div>\n",
    "    <div style=\"text-align: center;\">\n",
    "        <p style=\"font-weight: bold;\">Convolved with Dx</p>\n",
    "        <img src=\"./media/partial_derivative_x_blurred.jpg\" alt=\"Image 2\" style=\"width: 160px;\">\n",
    "    </div>\n",
    "    <div style=\"text-align: center;\">\n",
    "        <p style=\"font-weight: bold;\">Convolved with Dy</p>\n",
    "        <img src=\"./media/partial_derivative_y_blurred.jpg\" alt=\"Image 3\" style=\"width: 160px;\">\n",
    "    </div>\n",
    "    <div style=\"text-align: center;\">\n",
    "        <p style=\"font-weight: bold;\">Gradient Magnitude</p>\n",
    "        <img src=\"./media/gradient_magnitude_blurred.jpg\" alt=\"Image 4\" style=\"width: 160px;\">\n",
    "    </div>\n",
    "    <div style=\"text-align: center;\">\n",
    "        <p style=\"font-weight: bold;\">Edge Image</p>\n",
    "        <img src=\"./media/edge_image_blurred.jpg\" alt=\"Image 5\" style=\"width: 160px;\">\n",
    "    </div>\n",
    "</div>\n",
    "\n",
    "&emsp;&emsp;Compared with the edge image in Part 1.1, all the edges and lines are bolder now which helps us to identify the edge much clearer."
   ]
  },
  {
   "cell_type": "markdown",
   "metadata": {},
   "source": [
    "#### ***Method 2: Convolve the gaussian with $D_{x}$ and $D_{y}$ and apply the resulting DoG filters to the original image.***"
   ]
  },
  {
   "cell_type": "markdown",
   "metadata": {},
   "source": [
    "<div style=\"display: flex; justify-content: space-around; align-items: center;\">\n",
    "    <div style=\"text-align: center;\">\n",
    "        <p style=\"font-weight: bold;\">Gaussian convolved with Dx (Filter 1)</p>\n",
    "        <img src=\"./media/DoG_x.jpg\" alt=\"Image 1\" style=\"width: 145px;\">\n",
    "    </div>\n",
    "    <div style=\"text-align: center;\">\n",
    "        <p style=\"font-weight: bold;\">Gaussian convolved with Dy (Filter 2)</p>\n",
    "        <img src=\"./media/DoG_y.jpg\" alt=\"Image 2\" style=\"width: 145px;\">\n",
    "    </div>\n",
    "    <div style=\"text-align: center;\">\n",
    "        <p style=\"font-weight: bold;\">Convolved with DoG filter 1</p>\n",
    "        <img src=\"./media/partial_derivative_x_DoG.jpg\" alt=\"Image 3\" style=\"width: 145px;\">\n",
    "    </div>\n",
    "    <div style=\"text-align: center;\">\n",
    "        <p style=\"font-weight: bold;\">Convolved with DoG filter 2</p>\n",
    "        <img src=\"./media/partial_derivative_y_DoG.jpg\" alt=\"Image 4\" style=\"width: 145px;\">\n",
    "    </div>\n",
    "    <div style=\"text-align: center;\">\n",
    "        <p style=\"font-weight: bold;\">Gradient Magnitude Image</p>\n",
    "        <img src=\"./media/gradient_magnitude_DoG.jpg\" alt=\"Image 5\" style=\"width: 145px;\">\n",
    "    </div>\n",
    "    <div style=\"text-align: center;\">\n",
    "        <p style=\"font-weight: bold;\">Edge Image</p>\n",
    "        <img src=\"./media/edge_image_DoG.jpg\" alt=\"Image 6\" style=\"width: 145px;\">\n",
    "    </div>\n",
    "</div>"
   ]
  },
  {
   "cell_type": "markdown",
   "metadata": {},
   "source": [
    "&emsp;&emsp;In addition, we could verify that the edge images generated by mthod 1 and method 2 are the same."
   ]
  },
  {
   "cell_type": "markdown",
   "metadata": {},
   "source": [
    "## ***Part 2: Fun with Frequencies!***"
   ]
  },
  {
   "cell_type": "markdown",
   "metadata": {},
   "source": [
    "### ***Part 2.1: Image \"Sharpening\"***"
   ]
  },
  {
   "cell_type": "markdown",
   "metadata": {},
   "source": [
    "&emsp;&emsp;By subtracting the blurred version from the original image, we can isolate the high-frequency details. An image often looks sharper if it has stronger high frequencies. To enhance this effect, we can increase the high-frequency content. This process can be combined into a single convolution operation known as the unsharp mask filter. In other words, we have\n",
    "$$\n",
    "    \\text{Image - Blurred = High Frequency (Details)}\n",
    "$$\n",
    "$$\n",
    "    \\text{Image + } \\alpha \\cdot \\text{High Frequency = Sharpened}\n",
    "$$\n",
    "\n",
    "&emsp;&emsp;Here are the results on the given image and the image of my choice:\n",
    "<div style=\"text-align: center;\">\n",
    "    <h4 style=\"font-weight: bold;\">taj.jpg</h4>\n",
    "</div>\n",
    "\n",
    "$$\n",
    "    \\sigma = 1 \\text{ with } 9 \\times 9 \\text{ kernel, } \\alpha = 3\n",
    "$$\n",
    "\n",
    "<div style=\"display: flex; justify-content: space-around; align-items: center;\">\n",
    "    <div style=\"text-align: center;\">\n",
    "        <img src=\"./media/taj.jpg\" alt=\"Image 1\" style=\"width: 220px;\">\n",
    "        <p style=\"font-weight: bold;\">Original Image</p>\n",
    "    </div>\n",
    "    <div style=\"text-align: center;\">\n",
    "        <img src=\"./media/blur_taj.jpg\" alt=\"Image 2\" style=\"width: 220px;\">\n",
    "        <p style=\"font-weight: bold;\">Gaussian Blurred Image</p>\n",
    "    </div>\n",
    "    <div style=\"text-align: center;\">\n",
    "        <img src=\"./media/high_freq_taj.jpg\" alt=\"Image 3\" style=\"width: 220px;\">\n",
    "        <p style=\"font-weight: bold;\">High Frequency</p>\n",
    "    </div>\n",
    "    <div style=\"text-align: center;\">\n",
    "        <img src=\"./media/sharpened_taj.jpg\" alt=\"Image 4\" style=\"width: 220px;\">\n",
    "        <p style=\"font-weight: bold;\">Sharpened Image</p>\n",
    "    </div>\n",
    "</div>\n",
    "<div style=\"text-align: center;\">\n",
    "    <h4 style=\"font-weight: bold;\">flower.jpg</h4>\n",
    "</div>\n",
    "\n",
    "$$\n",
    "    \\sigma = 2 \\text{ with } 9 \\times 9 \\text{ kernel, } \\alpha = 4\n",
    "$$\n",
    "\n",
    "<div style=\"display: flex; justify-content: space-around; align-items: center;\">\n",
    "    <div style=\"text-align: center;\">\n",
    "        <img src=\"./media/flower.jpg\" alt=\"Image 1\" style=\"width: 220px;\">\n",
    "        <p style=\"font-weight: bold;\">Original Image</p>\n",
    "    </div>\n",
    "    <div style=\"text-align: center;\">\n",
    "        <img src=\"./media/blur_flower.jpg\" alt=\"Image 2\" style=\"width: 220px;\">\n",
    "        <p style=\"font-weight: bold;\">Gaussian Blurred Image</p>\n",
    "    </div>\n",
    "    <div style=\"text-align: center;\">\n",
    "        <img src=\"./media/high_freq_flower.jpg\" alt=\"Image 3\" style=\"width: 220px;\">\n",
    "        <p style=\"font-weight: bold;\">High Frequency</p>\n",
    "    </div>\n",
    "    <div style=\"text-align: center;\">\n",
    "        <img src=\"./media/sharpened_flower.jpg\" alt=\"Image 4\" style=\"width: 220px;\">\n",
    "        <p style=\"font-weight: bold;\">Sharpened Image</p>\n",
    "    </div>\n",
    "</div>\n",
    "\n",
    "&emsp;&emsp;For evaluation, I also pick a sharp image `ferriswheel.jpg`, blur it and then sharpen it again.\n",
    "$$\n",
    "    \\sigma = 2 \\text{ with } 9 \\times 9 \\text{ kernel, } \\alpha = 5\n",
    "$$\n",
    "\n",
    "<div style=\"display: flex; justify-content: space-around; align-items: center;\">\n",
    "    <div style=\"text-align: center;\">\n",
    "        <img src=\"./media/ferriswheel.jpg\" alt=\"Image 1\" style=\"width: 250px;\">\n",
    "        <p style=\"font-weight: bold;\">Original Image</p>\n",
    "    </div>\n",
    "    <div style=\"text-align: center;\">\n",
    "        <img src=\"./media/blur_ferriswheel.jpg\" alt=\"Image 2\" style=\"width: 250px;\">\n",
    "        <p style=\"font-weight: bold;\">Gaussian Blurred Image</p>\n",
    "    </div>\n",
    "    <div style=\"text-align: center;\">\n",
    "        <img src=\"./media/sharpened_ferriswheel.jpg\" alt=\"Image 4\" style=\"width: 250px;\">\n",
    "        <p style=\"font-weight: bold;\">Sharpened Image</p>\n",
    "    </div>\n",
    "</div>\n",
    "\n",
    "&emsp;&emsp;The sharpened image is not the same as the original one but I don't think this improves the accuracy or the quality."
   ]
  },
  {
   "cell_type": "markdown",
   "metadata": {},
   "source": [
    "### ***Part 2.2: Hybrid Images***"
   ]
  },
  {
   "cell_type": "markdown",
   "metadata": {},
   "source": [
    "&emsp;&emsp;Here you could see some examples of hybrid images that I realized using the described method.\n",
    "<div style=\"text-align: center;\">\n",
    "    <h4 style=\"font-weight: bold;\">''DerekPicture.jpg'' & ''nutmeg.jpg''</h4>\n",
    "</div>\n",
    "<div style=\"display: flex; justify-content: space-around; align-items: center;\">\n",
    "    <div style=\"text-align: center;\">\n",
    "        <img src=\"./media/DerekPicture.jpg\" alt=\"Image 1\" style=\"height: 220px;\">\n",
    "        <p style=\"font-weight: bold;\">''DerekPicture.jpg''</p>\n",
    "    </div>\n",
    "    <div style=\"text-align: center;\">\n",
    "        <img src=\"./media/nutmeg.jpg\" alt=\"Image 2\" style=\"height: 220px;\">\n",
    "        <p style=\"font-weight: bold;\">''nutmeg.jpg''</p>\n",
    "    </div>\n",
    "    <div style=\"text-align: center;\">\n",
    "        <img src=\"./media/hybrid1.jpg\" alt=\"Image 3\" style=\"height: 220px;\">\n",
    "        <p style=\"font-weight: bold;\">Hybrid Image</p>\n",
    "    </div>\n",
    "</div>\n",
    "<br>\n",
    "<div style=\"text-align: center;\">\n",
    "    <h4 style=\"font-weight: bold;\">''Monroe.png'' & ''Einstein.png''</h4>\n",
    "</div>\n",
    "<div style=\"display: flex; justify-content: space-around; align-items: center;\">\n",
    "    <div style=\"text-align: center;\">\n",
    "        <img src=\"./media/Monroe.png\" alt=\"Image 1\" style=\"height: 220px;\">\n",
    "        <p style=\"font-weight: bold;\">''Monroe.png''</p>\n",
    "    </div>\n",
    "    <div style=\"text-align: center;\">\n",
    "        <img src=\"./media/Einstein.png\" alt=\"Image 2\" style=\"height: 220px;\">\n",
    "        <p style=\"font-weight: bold;\">''Einstein.png''</p>\n",
    "    </div>\n",
    "    <div style=\"text-align: center;\">\n",
    "        <img src=\"./media/hybrid2.jpg\" alt=\"Image 3\" style=\"height: 220px;\">\n",
    "        <p style=\"font-weight: bold;\">Hybrid Image</p>\n",
    "    </div>\n",
    "</div>\n",
    "<br>\n",
    "&emsp;&emsp;As mentioned in the project description, the alignment is important because it affects the perceptual grouping. This is an example for failures. The facial features of the wolf and the panda are so different that they could not align well. In the hybrid image, you could see both the wolf's and the panda's nose and the panda's mouth even overlaps with the nose of the wolf. That is a huge disaster!\n",
    "<br>\n",
    "<br>\n",
    "<div style=\"display: flex; justify-content: space-around; align-items: center;\">\n",
    "    <div style=\"text-align: center;\">\n",
    "        <img src=\"./media/wolf.jpg\" alt=\"Image 1\" style=\"height: 180px;\">\n",
    "        <p style=\"font-weight: bold;\">''wolf.jpg''</p>\n",
    "    </div>\n",
    "    <div style=\"text-align: center;\">\n",
    "        <img src=\"./media/panda.jpg\" alt=\"Image 2\" style=\"height: 180px;\">\n",
    "        <p style=\"font-weight: bold;\">''panda.jpg''</p>\n",
    "    </div>\n",
    "    <div style=\"text-align: center;\">\n",
    "        <img src=\"./media/hybrid3.jpg\" alt=\"Image 3\" style=\"height: 180px;\">\n",
    "        <p style=\"font-weight: bold;\">Hybrid Image</p>\n",
    "    </div>\n",
    "</div>\n",
    "<br>\n",
    "&emsp;&emsp;Below is my favourite result and I will illustrate the process through frequency analysis.\n",
    "<br>\n",
    "<br>\n",
    "<div style=\"display: flex; justify-content: space-around; align-items: center;\">\n",
    "    <div style=\"text-align: center;\">\n",
    "        <img src=\"./media/hybrid_fft.jpg\" alt=\"Image 1\" style=\"width: 800px;\">\n",
    "    </div>\n",
    "</div>\n",
    "<br>\n",
    "&emsp;&emsp;In addition, I would like to show that the hybrid image could lead to different interpretations at different distances in deed.\n",
    "<br>\n",
    "<br>\n",
    "<div style=\"display: flex; justify-content: space-around; align-items: center;\">\n",
    "    <div style=\"text-align: center;\">\n",
    "        <img src=\"./media/hybrid_pyramid.jpg\" alt=\"Image 1\" style=\"width: 300px;\">\n",
    "    </div>\n",
    "</div>"
   ]
  },
  {
   "cell_type": "markdown",
   "metadata": {},
   "source": [
    "<div style=\"text-align: center;\">\n",
    "    <h1 style=\"font-style: italic;\">Multi-resolution Blending and the Oraple journey</h1>\n",
    "</div>"
   ]
  },
  {
   "cell_type": "markdown",
   "metadata": {},
   "source": [
    "### ***Part 2.3: Gaussian and Laplacian Stacks***"
   ]
  },
  {
   "cell_type": "markdown",
   "metadata": {},
   "source": [
    "&emsp;&emsp;Here are the Gaussian stacks and Laplacian stacks of ''apple.jpeg'' and ''orange.jpeg''. I use the gaussian filter of $\\sigma = 5$ with $25 \\times 25$ kernel.\n",
    "<div style=\"text-align: center;\">\n",
    "    <h4 style=\"font-weight: bold;\">''apple.jpeg''</h4>\n",
    "</div>\n",
    "<div style=\"display: flex; justify-content: space-around; align-items: center;\">\n",
    "    <div style=\"text-align: center;\">\n",
    "        <img src=\"./media/gaussian_apple.jpg\" alt=\"Image 1\" style=\"height: 200px;\">\n",
    "    </div>\n",
    "</div>\n",
    "<div style=\"display: flex; justify-content: space-around; align-items: center;\">\n",
    "    <div style=\"text-align: center;\">\n",
    "        <img src=\"./media/laplacian_apple.jpg\" alt=\"Image 1\" style=\"height: 200px;\">\n",
    "    </div>\n",
    "</div>\n",
    "<br>\n",
    "<br>\n",
    "<div style=\"text-align: center;\">\n",
    "    <h4 style=\"font-weight: bold;\">''orange.jpeg''</h4>\n",
    "</div>\n",
    "<div style=\"display: flex; justify-content: space-around; align-items: center;\">\n",
    "    <div style=\"text-align: center;\">\n",
    "        <img src=\"./media/gaussian_orange.jpg\" alt=\"Image 1\" style=\"height: 200px;\">\n",
    "    </div>\n",
    "</div>\n",
    "<div style=\"display: flex; justify-content: space-around; align-items: center;\">\n",
    "    <div style=\"text-align: center;\">\n",
    "        <img src=\"./media/laplacian_orange.jpg\" alt=\"Image 1\" style=\"height: 200px;\">\n",
    "    </div>\n",
    "</div>"
   ]
  },
  {
   "cell_type": "markdown",
   "metadata": {},
   "source": [
    "### ***Part 2.4: Multiresolution Blending***"
   ]
  },
  {
   "cell_type": "markdown",
   "metadata": {},
   "source": [
    "&emsp;&emsp;Denote the two target images as $A$ and $B$. To blend them together, I need to figure out the approximate mask. Then, I create the Laplacian stacks for both of them and then create the Gaussian stack for their mask. Follow the formula below:\n",
    "$$\n",
    "l_{k} = m_{k} \\cdot l_{k}^{A} + (1 - m_{k}) \\cdot l_{k}^{B}\n",
    "$$\n",
    "We could build the stack of the blend of image and then generate the image from it.\n",
    "\n",
    "Here are some examples:"
   ]
  },
  {
   "cell_type": "markdown",
   "metadata": {},
   "source": [
    "#### ***Apple + Orange = Oraple!***"
   ]
  },
  {
   "cell_type": "markdown",
   "metadata": {},
   "source": [
    "&emsp;&emsp;The oraple is constructed using a horizontal regular mask. The parameters of the stacks are as below:\n",
    "- Apple Laplacian stack: $\\sigma = 1$ with $3 \\times 3$ kernel.\n",
    "- Orange Laplacian stack: $\\sigma = 5$ with $25 \\times 25$ kernel.\n",
    "- Mask Gaussian stack: $\\sigma = 9$ with $49 \\times 49$ kernel.\n",
    "- Stack level: $11$.\n",
    "<div style=\"display: flex; justify-content: space-around; align-items: center;\">\n",
    "    <div style=\"text-align: center;\">\n",
    "        <img src=\"./media/oraple.jpg\" alt=\"Image 1\" style=\"width: 800px;\">\n",
    "    </div>\n",
    "</div>"
   ]
  },
  {
   "cell_type": "markdown",
   "metadata": {},
   "source": [
    "#### ***Star + Mountain = Starry Night!***"
   ]
  },
  {
   "cell_type": "markdown",
   "metadata": {},
   "source": [
    "&emsp;&emsp;The oraple is constructed using a vertical regular mask. The parameters of the stacks are as below:\n",
    "- Apple Laplacian stack: $\\sigma = 50$ with $101 \\times 101$ kernel.\n",
    "- Orange Laplacian stack: $\\sigma = 20$ with $15 \\times 15$ kernel.\n",
    "- Mask Gaussian stack: $\\sigma = 50$ with $81 \\times 81$ kernel.\n",
    "- Stack level: $10$.\n",
    "<div style=\"display: flex; justify-content: space-around; align-items: center;\">\n",
    "    <div style=\"text-align: center;\">\n",
    "        <img src=\"./media/starrynight.jpg\" alt=\"Image 1\" style=\"width: 900px;\">\n",
    "    </div>\n",
    "</div>"
   ]
  },
  {
   "cell_type": "markdown",
   "metadata": {},
   "source": [
    "#### ***Chandler + Monica = Chanica!***"
   ]
  },
  {
   "cell_type": "markdown",
   "metadata": {},
   "source": [
    "&emsp;&emsp;The oraple is constructed using a vertical regular mask. The parameters of the stacks are as below:\n",
    "- Apple Laplacian stack: $\\sigma = 3$ with $25 \\times 25$ kernel.\n",
    "- Orange Laplacian stack: $\\sigma = 3$ with $13 \\times 15$ kernel.\n",
    "- Mask Gaussian stack: $\\sigma = 15$ with $25 \\times 25$ kernel.\n",
    "- Stack level: $7$.\n",
    "<div style=\"display: flex; justify-content: space-around; align-items: center;\">\n",
    "    <div style=\"text-align: center;\">\n",
    "        <img src=\"./media/Chanica.jpg\" alt=\"Image 1\" style=\"width: 850px;\">\n",
    "    </div>\n",
    "</div>"
   ]
  },
  {
   "cell_type": "markdown",
   "metadata": {},
   "source": [
    "#### ***Illustrate the Process***"
   ]
  },
  {
   "cell_type": "markdown",
   "metadata": {},
   "source": [
    "&emsp;&emsp;Actually, my favourate result is the oraple, so I will illustrate the process for you. The full Laplacian stack is as below:\n",
    "<div style=\"display: flex; justify-content: space-around; align-items: center;\">\n",
    "    <div style=\"text-align: center;\">\n",
    "        <img src=\"./media/laplacian_oraple.jpg\" alt=\"Image 1\" style=\"width: 800px;\">\n",
    "    </div>\n",
    "</div>"
   ]
  }
 ],
 "metadata": {
  "kernelspec": {
   "display_name": "Python 3 (ipykernel)",
   "language": "python",
   "name": "python3"
  },
  "language_info": {
   "codemirror_mode": {
    "name": "ipython",
    "version": 3
   },
   "file_extension": ".py",
   "mimetype": "text/x-python",
   "name": "python",
   "nbconvert_exporter": "python",
   "pygments_lexer": "ipython3",
   "version": "3.9.13"
  }
 },
 "nbformat": 4,
 "nbformat_minor": 2
}
