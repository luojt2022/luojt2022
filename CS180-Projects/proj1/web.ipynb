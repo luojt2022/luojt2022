{
 "cells": [
  {
   "cell_type": "markdown",
   "metadata": {},
   "source": [
    "<div style=\"text-align: center;\">\n",
    "    <h1 style=\"font-style: italic;\">Images of the Russian Empire:<br>Colorizing the Prokudin-Gorskii photo collection</h1>\n",
    "</div>"
   ]
  },
  {
   "cell_type": "markdown",
   "metadata": {},
   "source": [
    "<div style=\"text-align: center;\">\n",
    "    <img src=\"./media/background.png\" alt=\"jupyter\" style=\"width: 40%;\"/>\n",
    "</div>"
   ]
  },
  {
   "cell_type": "markdown",
   "metadata": {},
   "source": [
    "## ***Background***"
   ]
  },
  {
   "cell_type": "markdown",
   "metadata": {},
   "source": [
    "Sergei Mikhailovich Prokudin-Gorskii (1863-1944) [Сергей Михайлович Прокудин-Горский, to his Russian friends] was a man well ahead of his time. Convinced, as early as 1907, that color photography was the wave of the future, he won Tzar's special permission to travel across the vast Russian Empire and take color photographs of everything he saw including the only color portrait of Leo Tolstoy. And he really photographed everything: people, buildings, landscapes, railroads, bridges... thousands of color pictures! His idea was simple: record three exposures of every scene onto a glass plate using a red, a green, and a blue filter. Never mind that there was no way to print color photographs until much later -- he envisioned special projectors to be installed in \"multimedia\" classrooms all across Russia where the children would be able to learn about their vast country. Alas, his plans never materialized: he left Russia in 1918, right after the revolution, never to return again. Luckily, his RGB glass plate negatives, capturing the last years of the Russian Empire, survived and were purchased in 1948 by the Library of Congress. The LoC has recently digitized the negatives and made them available on-line."
   ]
  },
  {
   "cell_type": "markdown",
   "metadata": {},
   "source": [
    "## ***Overview***"
   ]
  },
  {
   "cell_type": "markdown",
   "metadata": {},
   "source": [
    "The goal of this assignment is to take the digitized Prokudin-Gorskii glass plate images and, using image processing techniques, automatically produce a color image with as few visual artifacts as possible. In order to do this, you will need to extract the three color channel images, place them on top of each other, and align them so that they form a single RGB color image."
   ]
  },
  {
   "cell_type": "markdown",
   "metadata": {},
   "source": [
    "## ***My Works***"
   ]
  },
  {
   "cell_type": "markdown",
   "metadata": {},
   "source": [
    "I realized image alignment and automatic cropping and white balance in this project. You could see a brief presentation below:"
   ]
  },
  {
   "cell_type": "markdown",
   "metadata": {},
   "source": [
    "### ***Smaller Images (.jpg)***"
   ]
  },
  {
   "cell_type": "markdown",
   "metadata": {},
   "source": [
    "<div style=\"text-align: center;\">\n",
    "    <h4 style=\"font-weight: bold;\">cathedral.jpg</h4>\n",
    "</div>\n",
    "<div style=\"text-align: center;\">\n",
    "    <h5>Blue shift: [-2, -5]&emsp;&emsp;Red shift: [1, 7]</h4>\n",
    "</div>\n",
    "<div style=\"display: flex; justify-content: space-around; align-items: center;\">\n",
    "    <div style=\"text-align: center;\">\n",
    "        <p style=\"font-weight: bold;\">Aligned</p>\n",
    "        <img src=\"./media/aligned/cathedral.jpg\" alt=\"Image 1\" style=\"width: 350px;\">\n",
    "    </div>\n",
    "    <div style=\"text-align: center;\">\n",
    "        <p style=\"font-weight: bold;\">White Balance</p>\n",
    "        <img src=\"./media/balance/cathedral.jpg\" alt=\"Image 2\" style=\"width: 350px;\">\n",
    "    </div>\n",
    "</div>\n"
   ]
  },
  {
   "cell_type": "markdown",
   "metadata": {},
   "source": [
    "<div style=\"text-align: center;\">\n",
    "    <h4 style=\"font-weight: bold;\">monastery.jpg</h4>\n",
    "</div>\n",
    "<div style=\"text-align: center;\">\n",
    "    <h5>Blue shift: [-2, 3]&emsp;&emsp;Red shift: [1, 6]</h4>\n",
    "</div>\n",
    "<div style=\"display: flex; justify-content: space-around; align-items: center;\">\n",
    "    <div style=\"text-align: center;\">\n",
    "        <p style=\"font-weight: bold;\">Aligned</p>\n",
    "        <img src=\"./media/aligned/monastery.jpg\" alt=\"Image 1\" style=\"width: 350px;\">\n",
    "    </div>\n",
    "    <div style=\"text-align: center;\">\n",
    "        <p style=\"font-weight: bold;\">White Balance</p>\n",
    "        <img src=\"./media/balance/monastery.jpg\" alt=\"Image 2\" style=\"width: 350px;\">\n",
    "    </div>\n",
    "</div>\n"
   ]
  },
  {
   "cell_type": "markdown",
   "metadata": {},
   "source": [
    "<div style=\"text-align: center;\">\n",
    "    <h4 style=\"font-weight: bold;\">tobolsk.jpg</h4>\n",
    "</div>\n",
    "<div style=\"text-align: center;\">\n",
    "    <h5>Blue shift: [-3, -3]&emsp;&emsp;Red shift: [1, 4]</h4>\n",
    "</div>\n",
    "<div style=\"display: flex; justify-content: space-around; align-items: center;\">\n",
    "    <div style=\"text-align: center;\">\n",
    "        <p style=\"font-weight: bold;\">Aligned</p>\n",
    "        <img src=\"./media/aligned/tobolsk.jpg\" alt=\"Image 1\" style=\"width: 350px;\">\n",
    "    </div>\n",
    "    <div style=\"text-align: center;\">\n",
    "        <p style=\"font-weight: bold;\">White Balance</p>\n",
    "        <img src=\"./media/balance/tobolsk.jpg\" alt=\"Image 2\" style=\"width: 350px;\">\n",
    "    </div>\n",
    "</div>\n"
   ]
  },
  {
   "cell_type": "markdown",
   "metadata": {},
   "source": [
    "### ***Larger Images (.tif)***"
   ]
  },
  {
   "cell_type": "markdown",
   "metadata": {},
   "source": [
    "<div style=\"text-align: center;\">\n",
    "    <h4 style=\"font-weight: bold;\">church.tif</h4>\n",
    "</div>\n",
    "<div style=\"text-align: center;\">\n",
    "    <h5>Blue shift: [-3, -25]&emsp;&emsp;Red shift: [-8, 33]</h4>\n",
    "</div>\n",
    "<div style=\"display: flex; justify-content: space-around; align-items: center;\">\n",
    "    <div style=\"text-align: center;\">\n",
    "        <p style=\"font-weight: bold;\">Aligned</p>\n",
    "        <img src=\"./media/aligned/church.jpg\" alt=\"Image 1\" style=\"width: 350px;\">\n",
    "    </div>\n",
    "    <div style=\"text-align: center;\">\n",
    "        <p style=\"font-weight: bold;\">White Balance</p>\n",
    "        <img src=\"./media/balance/church.jpg\" alt=\"Image 2\" style=\"width: 350px;\">\n",
    "    </div>\n",
    "</div>\n"
   ]
  },
  {
   "cell_type": "markdown",
   "metadata": {},
   "source": [
    "<div style=\"text-align: center;\">\n",
    "    <h4 style=\"font-weight: bold;\">emir.tif</h4>\n",
    "</div>\n",
    "<div style=\"text-align: center;\">\n",
    "    <h5>Blue shift: [-24, -48]&emsp;&emsp;Red shift: [17, 57]</h4>\n",
    "</div>\n",
    "<div style=\"display: flex; justify-content: space-around; align-items: center;\">\n",
    "    <div style=\"text-align: center;\">\n",
    "        <p style=\"font-weight: bold;\">Aligned</p>\n",
    "        <img src=\"./media/aligned/emir.jpg\" alt=\"Image 1\" style=\"width: 350px;\">\n",
    "    </div>\n",
    "    <div style=\"text-align: center;\">\n",
    "        <p style=\"font-weight: bold;\">White Balance</p>\n",
    "        <img src=\"./media/balance/emir.jpg\" alt=\"Image 2\" style=\"width: 350px;\">\n",
    "    </div>\n",
    "</div>\n"
   ]
  },
  {
   "cell_type": "markdown",
   "metadata": {},
   "source": [
    "<div style=\"text-align: center;\">\n",
    "    <h4 style=\"font-weight: bold;\">harvesters.tif</h4>\n",
    "</div>\n",
    "<div style=\"text-align: center;\">\n",
    "    <h5>Blue shift: [-17, -59]&emsp;&emsp;Red shift: [-2, 64]</h4>\n",
    "</div>\n",
    "<div style=\"display: flex; justify-content: space-around; align-items: center;\">\n",
    "    <div style=\"text-align: center;\">\n",
    "        <p style=\"font-weight: bold;\">Aligned</p>\n",
    "        <img src=\"./media/aligned/harvesters.jpg\" alt=\"Image 1\" style=\"width: 350px;\">\n",
    "    </div>\n",
    "    <div style=\"text-align: center;\">\n",
    "        <p style=\"font-weight: bold;\">White Balance</p>\n",
    "        <img src=\"./media/balance/harvesters.jpg\" alt=\"Image 2\" style=\"width: 350px;\">\n",
    "    </div>\n",
    "</div>\n"
   ]
  },
  {
   "cell_type": "markdown",
   "metadata": {},
   "source": [
    "<div style=\"text-align: center;\">\n",
    "    <h4 style=\"font-weight: bold;\">icon.tif</h4>\n",
    "</div>\n",
    "<div style=\"text-align: center;\">\n",
    "    <h5>Blue shift: [-18, -41]&emsp;&emsp;Red shift: [5, 49]</h4>\n",
    "</div>\n",
    "<div style=\"display: flex; justify-content: space-around; align-items: center;\">\n",
    "    <div style=\"text-align: center;\">\n",
    "        <p style=\"font-weight: bold;\">Aligned</p>\n",
    "        <img src=\"./media/aligned/icon.jpg\" alt=\"Image 1\" style=\"width: 350px;\">\n",
    "    </div>\n",
    "    <div style=\"text-align: center;\">\n",
    "        <p style=\"font-weight: bold;\">White Balance</p>\n",
    "        <img src=\"./media/balance/icon.jpg\" alt=\"Image 2\" style=\"width: 350px;\">\n",
    "    </div>\n",
    "</div>\n"
   ]
  },
  {
   "cell_type": "markdown",
   "metadata": {},
   "source": [
    "<div style=\"text-align: center;\">\n",
    "    <h4 style=\"font-weight: bold;\">lady.tif</h4>\n",
    "</div>\n",
    "<div style=\"text-align: center;\">\n",
    "    <h5>Blue shift: [-7, -48]&emsp;&emsp;Red shift: [3, 58]</h4>\n",
    "</div>\n",
    "<div style=\"display: flex; justify-content: space-around; align-items: center;\">\n",
    "    <div style=\"text-align: center;\">\n",
    "        <p style=\"font-weight: bold;\">Aligned</p>\n",
    "        <img src=\"./media/aligned/lady.jpg\" alt=\"Image 1\" style=\"width: 350px;\">\n",
    "    </div>\n",
    "    <div style=\"text-align: center;\">\n",
    "        <p style=\"font-weight: bold;\">White Balance</p>\n",
    "        <img src=\"./media/balance/lady.jpg\" alt=\"Image 2\" style=\"width: 350px;\">\n",
    "    </div>\n",
    "</div>\n"
   ]
  },
  {
   "cell_type": "markdown",
   "metadata": {},
   "source": [
    "<div style=\"text-align: center;\">\n",
    "    <h4 style=\"font-weight: bold;\">melons.tif</h4>\n",
    "</div>\n",
    "<div style=\"text-align: center;\">\n",
    "    <h5>Blue shift: [-10, -83]&emsp;&emsp;Red shift: [3, 95]</h4>\n",
    "</div>\n",
    "<div style=\"display: flex; justify-content: space-around; align-items: center;\">\n",
    "    <div style=\"text-align: center;\">\n",
    "        <p style=\"font-weight: bold;\">Aligned</p>\n",
    "        <img src=\"./media/aligned/melons.jpg\" alt=\"Image 1\" style=\"width: 350px;\">\n",
    "    </div>\n",
    "    <div style=\"text-align: center;\">\n",
    "        <p style=\"font-weight: bold;\">White Balance</p>\n",
    "        <img src=\"./media/balance/melons.jpg\" alt=\"Image 2\" style=\"width: 350px;\">\n",
    "    </div>\n",
    "</div>\n"
   ]
  },
  {
   "cell_type": "markdown",
   "metadata": {},
   "source": [
    "<div style=\"text-align: center;\">\n",
    "    <h4 style=\"font-weight: bold;\">onion_church.tif</h4>\n",
    "</div>\n",
    "<div style=\"text-align: center;\">\n",
    "    <h5>Blue shift: [-26, -50]&emsp;&emsp;Red shift: [11, 58]</h4>\n",
    "</div>\n",
    "<div style=\"display: flex; justify-content: space-around; align-items: center;\">\n",
    "    <div style=\"text-align: center;\">\n",
    "        <p style=\"font-weight: bold;\">Aligned</p>\n",
    "        <img src=\"./media/aligned/onion_church.jpg\" alt=\"Image 1\" style=\"width: 350px;\">\n",
    "    </div>\n",
    "    <div style=\"text-align: center;\">\n",
    "        <p style=\"font-weight: bold;\">White Balance</p>\n",
    "        <img src=\"./media/balance/onion_church.jpg\" alt=\"Image 2\" style=\"width: 350px;\">\n",
    "    </div>\n",
    "</div>\n"
   ]
  },
  {
   "cell_type": "markdown",
   "metadata": {},
   "source": [
    "<div style=\"text-align: center;\">\n",
    "    <h4 style=\"font-weight: bold;\">sculpture.tif</h4>\n",
    "</div>\n",
    "<div style=\"text-align: center;\">\n",
    "    <h5>Blue shift: [11, -33]&emsp;&emsp;Red shift: [-16, 107]</h4>\n",
    "</div>\n",
    "<div style=\"display: flex; justify-content: space-around; align-items: center;\">\n",
    "    <div style=\"text-align: center;\">\n",
    "        <p style=\"font-weight: bold;\">Aligned</p>\n",
    "        <img src=\"./media/aligned/sculpture.jpg\" alt=\"Image 1\" style=\"width: 350px;\">\n",
    "    </div>\n",
    "    <div style=\"text-align: center;\">\n",
    "        <p style=\"font-weight: bold;\">White Balance</p>\n",
    "        <img src=\"./media/balance/sculpture.jpg\" alt=\"Image 2\" style=\"width: 350px;\">\n",
    "    </div>\n",
    "</div>\n"
   ]
  },
  {
   "cell_type": "markdown",
   "metadata": {},
   "source": [
    "<div style=\"text-align: center;\">\n",
    "    <h4 style=\"font-weight: bold;\">self_portrait.tif</h4>\n",
    "</div>\n",
    "<div style=\"text-align: center;\">\n",
    "    <h5>Blue shift: [-29, -77]&emsp;&emsp;Red shift: [8, 98]</h4>\n",
    "</div>\n",
    "<div style=\"display: flex; justify-content: space-around; align-items: center;\">\n",
    "    <div style=\"text-align: center;\">\n",
    "        <p style=\"font-weight: bold;\">Aligned</p>\n",
    "        <img src=\"./media/aligned/self_portrait.jpg\" alt=\"Image 1\" style=\"width: 350px;\">\n",
    "    </div>\n",
    "    <div style=\"text-align: center;\">\n",
    "        <p style=\"font-weight: bold;\">White Balance</p>\n",
    "        <img src=\"./media/balance/self_portrait.jpg\" alt=\"Image 2\" style=\"width: 350px;\">\n",
    "    </div>\n",
    "</div>\n"
   ]
  },
  {
   "cell_type": "markdown",
   "metadata": {},
   "source": [
    "<div style=\"text-align: center;\">\n",
    "    <h4 style=\"font-weight: bold;\">three_generations.tif</h4>\n",
    "</div>\n",
    "<div style=\"text-align: center;\">\n",
    "    <h5>Blue shift: [-15, -46]&emsp;&emsp;Red shift: [-2, 57]</h4>\n",
    "</div>\n",
    "<div style=\"display: flex; justify-content: space-around; align-items: center;\">\n",
    "    <div style=\"text-align: center;\">\n",
    "        <p style=\"font-weight: bold;\">Aligned</p>\n",
    "        <img src=\"./media/aligned/three_generations.jpg\" alt=\"Image 1\" style=\"width: 350px;\">\n",
    "    </div>\n",
    "    <div style=\"text-align: center;\">\n",
    "        <p style=\"font-weight: bold;\">White Balance</p>\n",
    "        <img src=\"./media/balance/three_generations.jpg\" alt=\"Image 2\" style=\"width: 350px;\">\n",
    "    </div>\n",
    "</div>\n"
   ]
  },
  {
   "cell_type": "markdown",
   "metadata": {},
   "source": [
    "<div style=\"text-align: center;\">\n",
    "    <h4 style=\"font-weight: bold;\">train.tif</h4>\n",
    "</div>\n",
    "<div style=\"text-align: center;\">\n",
    "    <h5>Blue shift: [-7, -42]&emsp;&emsp;Red shift: [26, 43]</h4>\n",
    "</div>\n",
    "<div style=\"display: flex; justify-content: space-around; align-items: center;\">\n",
    "    <div style=\"text-align: center;\">\n",
    "        <p style=\"font-weight: bold;\">Aligned</p>\n",
    "        <img src=\"./media/aligned/train.jpg\" alt=\"Image 1\" style=\"width: 350px;\">\n",
    "    </div>\n",
    "    <div style=\"text-align: center;\">\n",
    "        <p style=\"font-weight: bold;\">White Balance</p>\n",
    "        <img src=\"./media/balance/train.jpg\" alt=\"Image 2\" style=\"width: 350px;\">\n",
    "    </div>\n",
    "</div>\n"
   ]
  }
 ],
 "metadata": {
  "kernelspec": {
   "display_name": "Python 3 (ipykernel)",
   "language": "python",
   "name": "python3"
  },
  "language_info": {
   "codemirror_mode": {
    "name": "ipython",
    "version": 3
   },
   "file_extension": ".py",
   "mimetype": "text/x-python",
   "name": "python",
   "nbconvert_exporter": "python",
   "pygments_lexer": "ipython3",
   "version": "3.9.13"
  }
 },
 "nbformat": 4,
 "nbformat_minor": 2
}
