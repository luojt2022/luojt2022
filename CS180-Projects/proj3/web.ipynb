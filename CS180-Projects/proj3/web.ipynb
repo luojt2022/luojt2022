{
 "cells": [
  {
   "cell_type": "markdown",
   "metadata": {},
   "source": [
    "<div style=\"text-align: center;\">\n",
    "    <h1 style=\"font-style: italic;\">Face Morphing</h1>\n",
    "</div>\n",
    "<div style=\"display: flex; justify-content: space-around; align-items: center;\">\n",
    "    <div style=\"text-align: center;\">\n",
    "        <img src=\"./media/intro.gif\" alt=\"Image 1\" style=\"width: 400px;\">\n",
    "    </div>\n",
    "</div>"
   ]
  },
  {
   "cell_type": "markdown",
   "metadata": {},
   "source": [
    "## ***Overview***"
   ]
  },
  {
   "cell_type": "markdown",
   "metadata": {},
   "source": [
    "&emsp;&emsp;A morph is a simultaneous warp of the image shape and a cross-dissolve of the image colors. The cross-dissolve is the easy part; controlling and doing the warp is the hard part. The warp is controlled by defining a correspondence between the two pictures. The correspondence should map eyes to eyes, mouth to mouth, chin to chin, ears to ears, etc., to get the smoothest transformations possible.\n",
    "\n",
    "&emsp;&emsp;In this assignment I produced a \"morph\" animation of the faces of two different people, computed the mean of a population of faces and extrapolated from a population mean to create a caricature of myself."
   ]
  },
  {
   "cell_type": "markdown",
   "metadata": {},
   "source": [
    "## ***Part 1: Defining Correspondences***"
   ]
  },
  {
   "cell_type": "markdown",
   "metadata": {},
   "source": [
    "&emsp;&emsp;First, I manually defined pairs of corresponding points on the two target images using a consistent labeling, in order for the morph to work. I labeled the faces A and B in a consistent manner using the same ordering of keypoints in the two faces.\n",
    "\n",
    "&emsp;&emsp;For this part, I used the portraits of George and our old friend Derek! I selected 75 points in total across key facial features and accessories in both images by hand to ensure a smooth morphing process.\n",
    "\n",
    "<div style=\"display: flex; justify-content: space-around; align-items: center;\">\n",
    "    <div style=\"text-align: center;\">\n",
    "        <img src=\"./media/points.jpg\" alt=\"Image 1\" style=\"width: 600px;\">\n",
    "    </div>\n",
    "</div>\n",
    "\n",
    "&emsp;&emsp;I computed the Delaunay triangulation at a midway shape to lessen the potential triangle deformations. Here is the triangulation of these points.\n",
    "\n",
    "<div style=\"display: flex; justify-content: space-around; align-items: center;\">\n",
    "    <div style=\"text-align: center;\">\n",
    "        <img src=\"./media/triangulation.jpg\" alt=\"Image 1\" style=\"width: 600px;\">\n",
    "    </div>\n",
    "</div>"
   ]
  },
  {
   "cell_type": "markdown",
   "metadata": {},
   "source": [
    "## ***Part 2: Computing the \"Mid-way Face\"***"
   ]
  },
  {
   "cell_type": "markdown",
   "metadata": {},
   "source": [
    "&emsp;&emsp;Before computing the whole morph sequence, we need to compute the mid-way face. This would involve: \n",
    "1. Computing the average shape (a.k.a the average of each keypoint location in the two faces).\n",
    "2. Warping both faces into that shape.\n",
    "3. Averaging the colors together.\n",
    "\n",
    "&emsp;&emsp;The main task in warping the faces into the average shape is implementing an affine warp for each triangle in the triangulation from the original images into this new shape. Instead of looping over the pixels, we iterated through all the triangles pairs. For each triangle in the average shape, we got the affine projection to the corresponding triangles in each image. Then, for each pixel in the triangle, we found the corresponding points in each image and set value to weighted average (cross-dissolve each triangle).\n",
    "\n",
    "&emsp;&emsp;To create the mid-way face, we warped both faces to the average shape and then blended them using equal weights, i.e. $0.5$. The original images and the image of the mid-way face are shown as below:\n",
    "<div style=\"display: flex; justify-content: space-around; align-items: center;\">\n",
    "    <div style=\"text-align: center;\">\n",
    "        <img src=\"./media/midway_face.jpg\" alt=\"Image 1\" style=\"width: 700px;\">\n",
    "    </div>\n",
    "</div>"
   ]
  },
  {
   "cell_type": "markdown",
   "metadata": {},
   "source": [
    "## ***Part 3: The Morph Sequence***"
   ]
  },
  {
   "cell_type": "markdown",
   "metadata": {},
   "source": [
    "&emsp;&emsp;Then we could generate a video sequence of the morph. I followed the method mentioned in the course.\n",
    "1. Define corresponding points.\n",
    "2. Define triangle on points.\n",
    "   - Use same triangulation for both images.\n",
    "3. For each  $t = 0 :$ step $: 1$\n",
    "   - Compute the average shape at $t$ (weighted average of points).\n",
    "   - For each triangle in the average shape:\n",
    "      - Get the affine projection to the correponding triangles in each image.\n",
    "      - For each pixel in the triangle, find the correponding points in each image and set value to weighted average (cross-dissolve each triangle).\n",
    "   - Save the image as the nect frame of the sequence.\n",
    "\n",
    "<div style=\"display: flex; justify-content: space-around; align-items: center;\">\n",
    "    <div style=\"text-align: center;\">\n",
    "        <p style=\"font-weight: bold;\">George</p>\n",
    "        <img src=\"./media/george_small.jpg\" alt=\"Image 1\" style=\"width: 250px;\">\n",
    "    </div>\n",
    "    <div style=\"text-align: center;\">\n",
    "        <p style=\"font-weight: bold;\">Morphing Video</p>\n",
    "        <img src=\"./media/morphing.gif\" alt=\"Image 2\" style=\"width: 250px;\">\n",
    "    </div>\n",
    "    <div style=\"text-align: center;\">\n",
    "        <p style=\"font-weight: bold;\">Derek</p>\n",
    "        <img src=\"./media/DerekPicture.jpg\" alt=\"Image 3\" style=\"width: 250px;\">\n",
    "    </div>\n",
    "</div>"
   ]
  },
  {
   "cell_type": "markdown",
   "metadata": {},
   "source": [
    "## ***Part 4: The \"Mean face\" of a population***"
   ]
  },
  {
   "cell_type": "markdown",
   "metadata": {},
   "source": [
    "&emsp;&emsp;I analyzed a free data set of Danish faces for this part. There are 40 people in this dataset.\n",
    "<div style=\"display: flex; justify-content: space-around; align-items: center;\">\n",
    "    <div style=\"text-align: center;\">\n",
    "        <img src=\"./media/original.jpg\" alt=\"Image 1\" style=\"width: 750px;\">\n",
    "    </div>\n",
    "</div>\n",
    "<br>\n",
    "&emsp;&emsp;I computed the average face shape of the whole population and some subsets of the population - say, all the men & women.\n",
    "<div style=\"display: flex; justify-content: space-around; align-items: center;\">\n",
    "    <div style=\"text-align: center;\">\n",
    "        <img src=\"./media/meanface.jpg\" alt=\"Image 1\" style=\"width: 750px;\">\n",
    "    </div>\n",
    "</div>\n",
    "<br>\n",
    "&emsp;&emsp;Then I morphed each of the faces in the dataset into the average shape, i.e. the mean Danish face.\n",
    "<br><br>\n",
    "<div style=\"display: flex; justify-content: space-around; align-items: center;\">\n",
    "    <div style=\"text-align: center;\">\n",
    "        <img src=\"./media/meanfaces.jpg\" alt=\"Image 1\" style=\"width: 750px;\">\n",
    "    </div>\n",
    "</div>\n",
    "<br>\n",
    "&emsp;&emsp;Below show my face warped into the average geometry and the mean Danish face warped into my geometry.\n",
    "<br><br>\n",
    "<div style=\"display: flex; justify-content: space-around; align-items: center;\">\n",
    "    <div style=\"text-align: center;\">\n",
    "        <img src=\"./media/meanface_me.jpg\" alt=\"Image 1\" style=\"width: 750px;\">\n",
    "    </div>\n",
    "</div>"
   ]
  },
  {
   "cell_type": "markdown",
   "metadata": {},
   "source": [
    "## ***Part 5: Caricatures: Extrapolating from the mean***"
   ]
  },
  {
   "cell_type": "markdown",
   "metadata": {},
   "source": [
    "&emsp;&emsp;I also produced a caricature of my face by extrapolating from the population mean I calculated in the last step, i.e. mean Danish face. This procedure follows:\n",
    "$$\n",
    "    \\text{caricature} = \\text{average face} + \\alpha \\times (\\text{my face} - \\text{average face}).\n",
    "$$\n",
    "<div style=\"display: flex; justify-content: space-around; align-items: center;\">\n",
    "    <div style=\"text-align: center;\">\n",
    "        <img src=\"./media/caricatures.jpg\" alt=\"Image 1\" style=\"width: 750px;\">\n",
    "    </div>\n",
    "</div>\n",
    "\n",
    "&emsp;&emsp;It is obvious that the further $\\alpha$ deviates from $1.0$, the stranger my face looks. That's because the caricature is the same as my face when $\\alpha = 1.0$. You could deduce this from the equation above."
   ]
  },
  {
   "cell_type": "markdown",
   "metadata": {},
   "source": [
    "## ***Bells and Whistles***"
   ]
  },
  {
   "cell_type": "markdown",
   "metadata": {},
   "source": [
    "### ***Change age/gender/ethnicity/smile of my face.***"
   ]
  },
  {
   "cell_type": "markdown",
   "metadata": {},
   "source": [
    "&emsp;&emsp;I changed my face into a smily Danish man!\n",
    "<div style=\"display: flex; justify-content: space-around; align-items: center;\">\n",
    "    <div style=\"text-align: center;\">\n",
    "        <p style=\"font-weight: bold;\">Morph the Shape</p>\n",
    "        <img src=\"./media/smily_shape.gif\" alt=\"Image 1\" style=\"width: 300px;\">\n",
    "    </div>\n",
    "    <div style=\"text-align: center;\">\n",
    "        <p style=\"font-weight: bold;\">Morph the Appearance</p>\n",
    "        <img src=\"./media/smily_appearance.gif\" alt=\"Image 2\" style=\"width: 300px;\">\n",
    "    </div>\n",
    "    <div style=\"text-align: center;\">\n",
    "        <p style=\"font-weight: bold;\">Complete Morph</p>\n",
    "        <img src=\"./media/smily.gif\" alt=\"Image 3\" style=\"width: 300px;\">\n",
    "    </div>\n",
    "</div>"
   ]
  },
  {
   "cell_type": "markdown",
   "metadata": {},
   "source": [
    "### ***Make a morphing music video on a theme.***"
   ]
  },
  {
   "cell_type": "markdown",
   "metadata": {},
   "source": [
    "&emsp;&emsp;I made a morphing music video of the main characters in *EVANGELION*. Here I provide a gif version for you, you could find the mp4 version with music <a href=\"https://youtube.com/shorts/_50UpfsuSso\" target=\"_blank\">Here!</a> (The quality of the gif file might be poor due to the compression operation, so please click on the link to view the original video)\n",
    "<div style=\"display: flex; justify-content: space-around; align-items: center;\">\n",
    "    <div style=\"text-align: center;\">\n",
    "        <img src=\"./media/eva.gif\" alt=\"Image 1\" style=\"width: 350px;\">\n",
    "    </div>\n",
    "</div>"
   ]
  }
 ],
 "metadata": {
  "kernelspec": {
   "display_name": "Python 3 (ipykernel)",
   "language": "python",
   "name": "python3"
  },
  "language_info": {
   "codemirror_mode": {
    "name": "ipython",
    "version": 3
   },
   "file_extension": ".py",
   "mimetype": "text/x-python",
   "name": "python",
   "nbconvert_exporter": "python",
   "pygments_lexer": "ipython3",
   "version": "3.9.13"
  }
 },
 "nbformat": 4,
 "nbformat_minor": 2
}
